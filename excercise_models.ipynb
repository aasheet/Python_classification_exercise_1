{
 "cells": [
  {
   "cell_type": "code",
   "execution_count": 1,
   "id": "19ef87a7",
   "metadata": {},
   "outputs": [],
   "source": [
    "import os\n",
    "import pandas as pd\n",
    "import numpy as np\n",
    "from sklearn.model_selection import train_test_split\n",
    "import statsmodels.api as sm\n",
    "from sklearn.impute import SimpleImputer\n",
    "from sklearn.preprocessing import OneHotEncoder, StandardScaler\n",
    "from sklearn.metrics import confusion_matrix, ConfusionMatrixDisplay, roc_auc_score\n",
    "from sklearn.model_selection import GridSearchCV\n",
    "from sklearn.linear_model import LogisticRegression\n",
    "import xgboost as xgb\n",
    "from fancyimpute import IterativeImputer"
   ]
  },
  {
   "cell_type": "code",
   "execution_count": 2,
   "id": "54f1b679",
   "metadata": {},
   "outputs": [],
   "source": [
    "## read the train and test files\n",
    "df = pd.read_csv('D:/datasets/excercise/classification assignment/exercise_40_train.csv')\n",
    "df_test = pd.read_csv('D:/datasets/excercise/classification assignment/exercise_40_test.csv')"
   ]
  },
  {
   "cell_type": "code",
   "execution_count": 3,
   "id": "e2223ca0",
   "metadata": {},
   "outputs": [],
   "source": [
    "## Initial cleaning\n",
    "# drop x39 - only single value\n",
    "df.drop(['x39'], axis = 1, inplace = True)\n",
    "df_test.drop(['x39'], axis = 1, inplace = True)"
   ]
  },
  {
   "cell_type": "code",
   "execution_count": 4,
   "id": "20e58063",
   "metadata": {},
   "outputs": [],
   "source": [
    "# fix categorical column x3, eg: 'Wed' to 'Wednesday'\n",
    "dict_change_x3 = {'Wed':'Wednesday',\n",
    "               'Sat':'Saturday', \n",
    "               'Sun':'Sunday',\n",
    "               'Tue':'Tuesday', \n",
    "               'Thur':'Thursday', \n",
    "               'Fri':'Friday', \n",
    "               'Mon':'Monday'}\n",
    "df['x3'] = df['x3'].replace(dict_change_x3)\n",
    "df_test['x3'] = df_test['x3'].replace(dict_change_x3)"
   ]
  },
  {
   "cell_type": "code",
   "execution_count": 5,
   "id": "f49bc8c1",
   "metadata": {},
   "outputs": [],
   "source": [
    "# x99 - only value = yes, nan - impute nan as no\n",
    "df['x99'] = df['x99'].fillna('no')\n",
    "df_test['x99'] = df_test['x99'].fillna('no')"
   ]
  },
  {
   "cell_type": "code",
   "execution_count": 6,
   "id": "2f783e7c",
   "metadata": {},
   "outputs": [],
   "source": [
    "#fix 2 categorical columns which should be numerical\n",
    "df['x7'] = df['x7'].str.strip('%').astype('float')\n",
    "df['x19'] = df['x19'].str.strip('$').astype('float')\n",
    "df_test['x7'] = df_test['x7'].str.strip('%').astype('float')\n",
    "df_test['x19'] = df_test['x19'].str.strip('$').astype('float')"
   ]
  },
  {
   "cell_type": "code",
   "execution_count": 7,
   "id": "f114249b",
   "metadata": {},
   "outputs": [],
   "source": [
    "#fix 2 numerical columns which should be categorical\n",
    "df['x59'] = (df['x59']).astype(str)\n",
    "df['x98'] = (df['x98']).astype(str)\n",
    "df_test['x59'] = (df_test['x59']).astype(str)\n",
    "df_test['x98'] = (df_test['x98']).astype(str)"
   ]
  },
  {
   "cell_type": "code",
   "execution_count": 8,
   "id": "bab31913",
   "metadata": {},
   "outputs": [],
   "source": [
    "#get categorical and numerical variables\n",
    "cat_cols = [col for col in df.columns if df[col].dtypes =='O']\n",
    "non_cat_cols = [col for col in df.columns if df[col].dtypes !='O']\n",
    "df_cols = df.columns"
   ]
  },
  {
   "cell_type": "code",
   "execution_count": 9,
   "id": "7fd2dc38",
   "metadata": {},
   "outputs": [],
   "source": [
    "## use iterative imputer for numerical vars\n",
    "df_num = df[non_cat_cols].copy()\n",
    "df_num = df_num.drop('y', axis = 1)\n",
    "it_imp = IterativeImputer()\n",
    "df_num2 = pd.DataFrame(it_imp.fit_transform(df_num), columns = it_imp.get_feature_names_out())"
   ]
  },
  {
   "cell_type": "code",
   "execution_count": 10,
   "id": "3ee9d2a3",
   "metadata": {},
   "outputs": [],
   "source": [
    "# perform on test\n",
    "non_cat_cols.remove('y')\n",
    "df_test_num = df_test[non_cat_cols].copy()\n",
    "df_test_num2 = pd.DataFrame(it_imp.transform(df_test_num), columns = it_imp.get_feature_names_out())"
   ]
  },
  {
   "cell_type": "code",
   "execution_count": 11,
   "id": "1c417557",
   "metadata": {},
   "outputs": [],
   "source": [
    "## imputations on categorical colum\n",
    "df_cat2 = df[cat_cols].copy()\n",
    "# category type 1\n",
    "df_cat2_1 = df_cat2[['x3', 'x24', 'x31', 'x33', 'x59', 'x60', 'x65', 'x93', 'x98','x99']]\n",
    "#category type 2\n",
    "df_cat2_2 = df_cat2[['x77']]"
   ]
  },
  {
   "cell_type": "code",
   "execution_count": 12,
   "id": "fc281e14",
   "metadata": {},
   "outputs": [],
   "source": [
    "## simple impute on category type 1 - most freq\n",
    "sim_imp_freq = SimpleImputer(missing_values = np.NaN, strategy='most_frequent')\n",
    "df_cat2_1 = pd.DataFrame(sim_imp_freq.fit_transform(df_cat2_1), columns = sim_imp_freq.get_feature_names_out())"
   ]
  },
  {
   "cell_type": "code",
   "execution_count": 13,
   "id": "4c6e49fa",
   "metadata": {},
   "outputs": [],
   "source": [
    "## simple impute on category type 2- constant\n",
    "sim_imp_const = SimpleImputer(missing_values = np.NaN, strategy='constant', fill_value = 'NULL')\n",
    "df_cat2_2 = pd.DataFrame(sim_imp_const.fit_transform(df_cat2_2), columns = sim_imp_const.get_feature_names_out())"
   ]
  },
  {
   "cell_type": "code",
   "execution_count": 14,
   "id": "2f4af9a7",
   "metadata": {},
   "outputs": [],
   "source": [
    "#perform on test\n",
    "df_test_cat2 = df_test[cat_cols].copy()\n",
    "df_test_cat2_1 = df_test_cat2[['x3', 'x24', 'x31', 'x33', 'x59', 'x60', 'x65', 'x93', 'x98','x99']]\n",
    "df_test_cat2_2 = df_test_cat2[['x77']]\n",
    "df_test_cat2_1 = pd.DataFrame(sim_imp_freq.transform(df_test_cat2_1), columns = sim_imp_freq.get_feature_names_out())\n",
    "df_test_cat2_2 = pd.DataFrame(sim_imp_const.transform(df_test_cat2_2), columns = sim_imp_const.get_feature_names_out())"
   ]
  },
  {
   "cell_type": "code",
   "execution_count": 15,
   "id": "f4430155",
   "metadata": {},
   "outputs": [],
   "source": [
    "df_cat2 = df_cat2_1.join(df_cat2_2)"
   ]
  },
  {
   "cell_type": "code",
   "execution_count": 16,
   "id": "2f4819d5",
   "metadata": {},
   "outputs": [],
   "source": [
    "df_test_cat2 = df_test_cat2_1.join(df_test_cat2_2)"
   ]
  },
  {
   "cell_type": "code",
   "execution_count": 17,
   "id": "641b1c61",
   "metadata": {},
   "outputs": [],
   "source": [
    "## OneHotEncoding on categorical variables\n",
    "ohe = OneHotEncoder(drop = 'if_binary', sparse_output = False)\n",
    "df_cat3 = pd.DataFrame(ohe.fit_transform(df_cat2), columns = ohe.get_feature_names_out())"
   ]
  },
  {
   "cell_type": "code",
   "execution_count": 18,
   "id": "d8ba51dd",
   "metadata": {},
   "outputs": [],
   "source": [
    "#perform on test\n",
    "df_test_cat3 = pd.DataFrame(ohe.transform(df_test_cat2), columns = ohe.get_feature_names_out())"
   ]
  },
  {
   "cell_type": "code",
   "execution_count": 19,
   "id": "afddc04a",
   "metadata": {},
   "outputs": [],
   "source": [
    "## standard scaling on numerical variables\n",
    "scalar = StandardScaler()\n",
    "df_num3 = pd.DataFrame(scalar.fit_transform(df_num2), columns = scalar.get_feature_names_out())"
   ]
  },
  {
   "cell_type": "code",
   "execution_count": 20,
   "id": "c3c30cc4",
   "metadata": {},
   "outputs": [],
   "source": [
    "#perform on test\n",
    "df_test_num3 = pd.DataFrame(scalar.transform(df_test_num2), columns = scalar.get_feature_names_out())"
   ]
  },
  {
   "cell_type": "code",
   "execution_count": 21,
   "id": "4ec5eb21",
   "metadata": {},
   "outputs": [],
   "source": [
    "df_x = df_num3.join(df_cat3)"
   ]
  },
  {
   "cell_type": "code",
   "execution_count": 22,
   "id": "03f603f5",
   "metadata": {},
   "outputs": [],
   "source": [
    "df_test_x = df_test_num3.join(df_test_cat3)"
   ]
  },
  {
   "cell_type": "code",
   "execution_count": 23,
   "id": "9d65f56a",
   "metadata": {},
   "outputs": [],
   "source": [
    "df_y = df['y']"
   ]
  },
  {
   "cell_type": "code",
   "execution_count": 24,
   "id": "c5128355",
   "metadata": {},
   "outputs": [],
   "source": [
    "## split training table into train and test "
   ]
  },
  {
   "cell_type": "code",
   "execution_count": 25,
   "id": "8bf9c059",
   "metadata": {},
   "outputs": [],
   "source": [
    "x_train, x_test, y_train, y_test = train_test_split(df_x,df_y, test_size=0.2,random_state=1)"
   ]
  },
  {
   "cell_type": "code",
   "execution_count": 26,
   "id": "4997c84c",
   "metadata": {},
   "outputs": [],
   "source": [
    "### building models\n",
    "# as directed the models were chosen based on 'AUC score'\n",
    "# another approach would be to change the weightage of the training dataset since it is pretty imbalanced\n",
    "#We could use specificity/ sensitivity, etc or basically to get higher True '1' rate\n",
    "# doing so reduced the AUC score so it was avoided"
   ]
  },
  {
   "cell_type": "code",
   "execution_count": 27,
   "id": "87058945",
   "metadata": {},
   "outputs": [],
   "source": [
    "## model 1\n",
    "# logistic regression\n",
    "#features selected in prior iterations\n",
    "\n",
    "logreg = LogisticRegression(\n",
    "    C = 100000000,\n",
    "    penalty = None,\n",
    "    fit_intercept = False,\n",
    ")"
   ]
  },
  {
   "cell_type": "code",
   "execution_count": 28,
   "id": "4c98f16c",
   "metadata": {},
   "outputs": [
    {
     "name": "stderr",
     "output_type": "stream",
     "text": [
      "C:\\Users\\EHOT\\anaconda3\\Lib\\site-packages\\sklearn\\linear_model\\_logistic.py:1181: UserWarning: Setting penalty=None will ignore the C and l1_ratio parameters\n",
      "  warnings.warn(\n",
      "C:\\Users\\EHOT\\anaconda3\\Lib\\site-packages\\sklearn\\linear_model\\_logistic.py:458: ConvergenceWarning: lbfgs failed to converge (status=1):\n",
      "STOP: TOTAL NO. of ITERATIONS REACHED LIMIT.\n",
      "\n",
      "Increase the number of iterations (max_iter) or scale the data as shown in:\n",
      "    https://scikit-learn.org/stable/modules/preprocessing.html\n",
      "Please also refer to the documentation for alternative solver options:\n",
      "    https://scikit-learn.org/stable/modules/linear_model.html#logistic-regression\n",
      "  n_iter_i = _check_optimize_result(\n"
     ]
    },
    {
     "data": {
      "text/html": [
       "<style>#sk-container-id-1 {color: black;background-color: white;}#sk-container-id-1 pre{padding: 0;}#sk-container-id-1 div.sk-toggleable {background-color: white;}#sk-container-id-1 label.sk-toggleable__label {cursor: pointer;display: block;width: 100%;margin-bottom: 0;padding: 0.3em;box-sizing: border-box;text-align: center;}#sk-container-id-1 label.sk-toggleable__label-arrow:before {content: \"▸\";float: left;margin-right: 0.25em;color: #696969;}#sk-container-id-1 label.sk-toggleable__label-arrow:hover:before {color: black;}#sk-container-id-1 div.sk-estimator:hover label.sk-toggleable__label-arrow:before {color: black;}#sk-container-id-1 div.sk-toggleable__content {max-height: 0;max-width: 0;overflow: hidden;text-align: left;background-color: #f0f8ff;}#sk-container-id-1 div.sk-toggleable__content pre {margin: 0.2em;color: black;border-radius: 0.25em;background-color: #f0f8ff;}#sk-container-id-1 input.sk-toggleable__control:checked~div.sk-toggleable__content {max-height: 200px;max-width: 100%;overflow: auto;}#sk-container-id-1 input.sk-toggleable__control:checked~label.sk-toggleable__label-arrow:before {content: \"▾\";}#sk-container-id-1 div.sk-estimator input.sk-toggleable__control:checked~label.sk-toggleable__label {background-color: #d4ebff;}#sk-container-id-1 div.sk-label input.sk-toggleable__control:checked~label.sk-toggleable__label {background-color: #d4ebff;}#sk-container-id-1 input.sk-hidden--visually {border: 0;clip: rect(1px 1px 1px 1px);clip: rect(1px, 1px, 1px, 1px);height: 1px;margin: -1px;overflow: hidden;padding: 0;position: absolute;width: 1px;}#sk-container-id-1 div.sk-estimator {font-family: monospace;background-color: #f0f8ff;border: 1px dotted black;border-radius: 0.25em;box-sizing: border-box;margin-bottom: 0.5em;}#sk-container-id-1 div.sk-estimator:hover {background-color: #d4ebff;}#sk-container-id-1 div.sk-parallel-item::after {content: \"\";width: 100%;border-bottom: 1px solid gray;flex-grow: 1;}#sk-container-id-1 div.sk-label:hover label.sk-toggleable__label {background-color: #d4ebff;}#sk-container-id-1 div.sk-serial::before {content: \"\";position: absolute;border-left: 1px solid gray;box-sizing: border-box;top: 0;bottom: 0;left: 50%;z-index: 0;}#sk-container-id-1 div.sk-serial {display: flex;flex-direction: column;align-items: center;background-color: white;padding-right: 0.2em;padding-left: 0.2em;position: relative;}#sk-container-id-1 div.sk-item {position: relative;z-index: 1;}#sk-container-id-1 div.sk-parallel {display: flex;align-items: stretch;justify-content: center;background-color: white;position: relative;}#sk-container-id-1 div.sk-item::before, #sk-container-id-1 div.sk-parallel-item::before {content: \"\";position: absolute;border-left: 1px solid gray;box-sizing: border-box;top: 0;bottom: 0;left: 50%;z-index: -1;}#sk-container-id-1 div.sk-parallel-item {display: flex;flex-direction: column;z-index: 1;position: relative;background-color: white;}#sk-container-id-1 div.sk-parallel-item:first-child::after {align-self: flex-end;width: 50%;}#sk-container-id-1 div.sk-parallel-item:last-child::after {align-self: flex-start;width: 50%;}#sk-container-id-1 div.sk-parallel-item:only-child::after {width: 0;}#sk-container-id-1 div.sk-dashed-wrapped {border: 1px dashed gray;margin: 0 0.4em 0.5em 0.4em;box-sizing: border-box;padding-bottom: 0.4em;background-color: white;}#sk-container-id-1 div.sk-label label {font-family: monospace;font-weight: bold;display: inline-block;line-height: 1.2em;}#sk-container-id-1 div.sk-label-container {text-align: center;}#sk-container-id-1 div.sk-container {/* jupyter's `normalize.less` sets `[hidden] { display: none; }` but bootstrap.min.css set `[hidden] { display: none !important; }` so we also need the `!important` here to be able to override the default hidden behavior on the sphinx rendered scikit-learn.org. See: https://github.com/scikit-learn/scikit-learn/issues/21755 */display: inline-block !important;position: relative;}#sk-container-id-1 div.sk-text-repr-fallback {display: none;}</style><div id=\"sk-container-id-1\" class=\"sk-top-container\"><div class=\"sk-text-repr-fallback\"><pre>LogisticRegression(C=100000000, fit_intercept=False, penalty=None)</pre><b>In a Jupyter environment, please rerun this cell to show the HTML representation or trust the notebook. <br />On GitHub, the HTML representation is unable to render, please try loading this page with nbviewer.org.</b></div><div class=\"sk-container\" hidden><div class=\"sk-item\"><div class=\"sk-estimator sk-toggleable\"><input class=\"sk-toggleable__control sk-hidden--visually\" id=\"sk-estimator-id-1\" type=\"checkbox\" checked><label for=\"sk-estimator-id-1\" class=\"sk-toggleable__label sk-toggleable__label-arrow\">LogisticRegression</label><div class=\"sk-toggleable__content\"><pre>LogisticRegression(C=100000000, fit_intercept=False, penalty=None)</pre></div></div></div></div></div>"
      ],
      "text/plain": [
       "LogisticRegression(C=100000000, fit_intercept=False, penalty=None)"
      ]
     },
     "execution_count": 28,
     "metadata": {},
     "output_type": "execute_result"
    }
   ],
   "source": [
    "logreg.fit(x_train, y_train)"
   ]
  },
  {
   "cell_type": "code",
   "execution_count": 29,
   "id": "6bd98385",
   "metadata": {},
   "outputs": [
    {
     "data": {
      "text/plain": [
       "<sklearn.metrics._plot.confusion_matrix.ConfusionMatrixDisplay at 0x24bc5037490>"
      ]
     },
     "execution_count": 29,
     "metadata": {},
     "output_type": "execute_result"
    },
    {
     "data": {
      "image/png": "[encoded data removed]",
      "text/plain": [
       "<Figure size 640x480 with 2 Axes>"
      ]
     },
     "metadata": {},
     "output_type": "display_data"
    }
   ],
   "source": [
    "yhat = logreg.predict(x_test)\n",
    "logreg_pred_test = list(map(round, yhat))\n",
    "ConfusionMatrixDisplay(confusion_matrix(y_test, logreg_pred_test)).plot()"
   ]
  },
  {
   "cell_type": "code",
   "execution_count": 30,
   "id": "7807fef9",
   "metadata": {},
   "outputs": [
    {
     "name": "stdout",
     "output_type": "stream",
     "text": [
      "AUC for logistic regression :  0.7682061971195693\n"
     ]
    }
   ],
   "source": [
    "print('AUC for logistic regression : ', roc_auc_score(y_test, logreg.predict_proba(x_test)[:,1]))"
   ]
  },
  {
   "cell_type": "code",
   "execution_count": 31,
   "id": "48664eeb",
   "metadata": {},
   "outputs": [],
   "source": [
    "## model 2"
   ]
  },
  {
   "cell_type": "code",
   "execution_count": 32,
   "id": "bb895261",
   "metadata": {},
   "outputs": [],
   "source": [
    "# XGBOOST"
   ]
  },
  {
   "cell_type": "code",
   "execution_count": 33,
   "id": "ffea4e72",
   "metadata": {},
   "outputs": [],
   "source": [
    "#features selected in prior iterations"
   ]
  },
  {
   "cell_type": "code",
   "execution_count": 34,
   "id": "a325c624",
   "metadata": {},
   "outputs": [],
   "source": [
    "clf_xgb = xgb.XGBClassifier(\n",
    "    objective = 'binary:logistic',\n",
    "    missing = np.NaN,\n",
    "    seed = 42,\n",
    "    scale_pos_weight = 1,\n",
    "    gamma = 1.5,\n",
    "    learning_rate = 0.15,\n",
    "    max_depth = 4,\n",
    "    reg_lambda = 15,\n",
    ")"
   ]
  },
  {
   "cell_type": "code",
   "execution_count": 35,
   "id": "4f65ce96",
   "metadata": {},
   "outputs": [
    {
     "name": "stderr",
     "output_type": "stream",
     "text": [
      "C:\\Users\\EHOT\\anaconda3\\Lib\\site-packages\\xgboost\\sklearn.py:835: UserWarning: `eval_metric` in `fit` method is deprecated for better compatibility with scikit-learn, use `eval_metric` in constructor or`set_params` instead.\n",
      "  warnings.warn(\n",
      "C:\\Users\\EHOT\\anaconda3\\Lib\\site-packages\\xgboost\\sklearn.py:835: UserWarning: `early_stopping_rounds` in `fit` method is deprecated for better compatibility with scikit-learn, use `early_stopping_rounds` in constructor or`set_params` instead.\n",
      "  warnings.warn(\n"
     ]
    },
    {
     "data": {
      "text/html": [
       "<style>#sk-container-id-2 {color: black;background-color: white;}#sk-container-id-2 pre{padding: 0;}#sk-container-id-2 div.sk-toggleable {background-color: white;}#sk-container-id-2 label.sk-toggleable__label {cursor: pointer;display: block;width: 100%;margin-bottom: 0;padding: 0.3em;box-sizing: border-box;text-align: center;}#sk-container-id-2 label.sk-toggleable__label-arrow:before {content: \"▸\";float: left;margin-right: 0.25em;color: #696969;}#sk-container-id-2 label.sk-toggleable__label-arrow:hover:before {color: black;}#sk-container-id-2 div.sk-estimator:hover label.sk-toggleable__label-arrow:before {color: black;}#sk-container-id-2 div.sk-toggleable__content {max-height: 0;max-width: 0;overflow: hidden;text-align: left;background-color: #f0f8ff;}#sk-container-id-2 div.sk-toggleable__content pre {margin: 0.2em;color: black;border-radius: 0.25em;background-color: #f0f8ff;}#sk-container-id-2 input.sk-toggleable__control:checked~div.sk-toggleable__content {max-height: 200px;max-width: 100%;overflow: auto;}#sk-container-id-2 input.sk-toggleable__control:checked~label.sk-toggleable__label-arrow:before {content: \"▾\";}#sk-container-id-2 div.sk-estimator input.sk-toggleable__control:checked~label.sk-toggleable__label {background-color: #d4ebff;}#sk-container-id-2 div.sk-label input.sk-toggleable__control:checked~label.sk-toggleable__label {background-color: #d4ebff;}#sk-container-id-2 input.sk-hidden--visually {border: 0;clip: rect(1px 1px 1px 1px);clip: rect(1px, 1px, 1px, 1px);height: 1px;margin: -1px;overflow: hidden;padding: 0;position: absolute;width: 1px;}#sk-container-id-2 div.sk-estimator {font-family: monospace;background-color: #f0f8ff;border: 1px dotted black;border-radius: 0.25em;box-sizing: border-box;margin-bottom: 0.5em;}#sk-container-id-2 div.sk-estimator:hover {background-color: #d4ebff;}#sk-container-id-2 div.sk-parallel-item::after {content: \"\";width: 100%;border-bottom: 1px solid gray;flex-grow: 1;}#sk-container-id-2 div.sk-label:hover label.sk-toggleable__label {background-color: #d4ebff;}#sk-container-id-2 div.sk-serial::before {content: \"\";position: absolute;border-left: 1px solid gray;box-sizing: border-box;top: 0;bottom: 0;left: 50%;z-index: 0;}#sk-container-id-2 div.sk-serial {display: flex;flex-direction: column;align-items: center;background-color: white;padding-right: 0.2em;padding-left: 0.2em;position: relative;}#sk-container-id-2 div.sk-item {position: relative;z-index: 1;}#sk-container-id-2 div.sk-parallel {display: flex;align-items: stretch;justify-content: center;background-color: white;position: relative;}#sk-container-id-2 div.sk-item::before, #sk-container-id-2 div.sk-parallel-item::before {content: \"\";position: absolute;border-left: 1px solid gray;box-sizing: border-box;top: 0;bottom: 0;left: 50%;z-index: -1;}#sk-container-id-2 div.sk-parallel-item {display: flex;flex-direction: column;z-index: 1;position: relative;background-color: white;}#sk-container-id-2 div.sk-parallel-item:first-child::after {align-self: flex-end;width: 50%;}#sk-container-id-2 div.sk-parallel-item:last-child::after {align-self: flex-start;width: 50%;}#sk-container-id-2 div.sk-parallel-item:only-child::after {width: 0;}#sk-container-id-2 div.sk-dashed-wrapped {border: 1px dashed gray;margin: 0 0.4em 0.5em 0.4em;box-sizing: border-box;padding-bottom: 0.4em;background-color: white;}#sk-container-id-2 div.sk-label label {font-family: monospace;font-weight: bold;display: inline-block;line-height: 1.2em;}#sk-container-id-2 div.sk-label-container {text-align: center;}#sk-container-id-2 div.sk-container {/* jupyter's `normalize.less` sets `[hidden] { display: none; }` but bootstrap.min.css set `[hidden] { display: none !important; }` so we also need the `!important` here to be able to override the default hidden behavior on the sphinx rendered scikit-learn.org. See: https://github.com/scikit-learn/scikit-learn/issues/21755 */display: inline-block !important;position: relative;}#sk-container-id-2 div.sk-text-repr-fallback {display: none;}</style><div id=\"sk-container-id-2\" class=\"sk-top-container\"><div class=\"sk-text-repr-fallback\"><pre>XGBClassifier(base_score=None, booster=None, callbacks=None,\n",
       "              colsample_bylevel=None, colsample_bynode=None,\n",
       "              colsample_bytree=None, early_stopping_rounds=None,\n",
       "              enable_categorical=False, eval_metric=None, feature_types=None,\n",
       "              gamma=1.5, gpu_id=None, grow_policy=None, importance_type=None,\n",
       "              interaction_constraints=None, learning_rate=0.15, max_bin=None,\n",
       "              max_cat_threshold=None, max_cat_to_onehot=None,\n",
       "              max_delta_step=None, max_depth=4, max_leaves=None,\n",
       "              min_child_weight=None, missing=nan, monotone_constraints=None,\n",
       "              n_estimators=100, n_jobs=None, num_parallel_tree=None,\n",
       "              predictor=None, random_state=None, ...)</pre><b>In a Jupyter environment, please rerun this cell to show the HTML representation or trust the notebook. <br />On GitHub, the HTML representation is unable to render, please try loading this page with nbviewer.org.</b></div><div class=\"sk-container\" hidden><div class=\"sk-item\"><div class=\"sk-estimator sk-toggleable\"><input class=\"sk-toggleable__control sk-hidden--visually\" id=\"sk-estimator-id-2\" type=\"checkbox\" checked><label for=\"sk-estimator-id-2\" class=\"sk-toggleable__label sk-toggleable__label-arrow\">XGBClassifier</label><div class=\"sk-toggleable__content\"><pre>XGBClassifier(base_score=None, booster=None, callbacks=None,\n",
       "              colsample_bylevel=None, colsample_bynode=None,\n",
       "              colsample_bytree=None, early_stopping_rounds=None,\n",
       "              enable_categorical=False, eval_metric=None, feature_types=None,\n",
       "              gamma=1.5, gpu_id=None, grow_policy=None, importance_type=None,\n",
       "              interaction_constraints=None, learning_rate=0.15, max_bin=None,\n",
       "              max_cat_threshold=None, max_cat_to_onehot=None,\n",
       "              max_delta_step=None, max_depth=4, max_leaves=None,\n",
       "              min_child_weight=None, missing=nan, monotone_constraints=None,\n",
       "              n_estimators=100, n_jobs=None, num_parallel_tree=None,\n",
       "              predictor=None, random_state=None, ...)</pre></div></div></div></div></div>"
      ],
      "text/plain": [
       "XGBClassifier(base_score=None, booster=None, callbacks=None,\n",
       "              colsample_bylevel=None, colsample_bynode=None,\n",
       "              colsample_bytree=None, early_stopping_rounds=None,\n",
       "              enable_categorical=False, eval_metric=None, feature_types=None,\n",
       "              gamma=1.5, gpu_id=None, grow_policy=None, importance_type=None,\n",
       "              interaction_constraints=None, learning_rate=0.15, max_bin=None,\n",
       "              max_cat_threshold=None, max_cat_to_onehot=None,\n",
       "              max_delta_step=None, max_depth=4, max_leaves=None,\n",
       "              min_child_weight=None, missing=nan, monotone_constraints=None,\n",
       "              n_estimators=100, n_jobs=None, num_parallel_tree=None,\n",
       "              predictor=None, random_state=None, ...)"
      ]
     },
     "execution_count": 35,
     "metadata": {},
     "output_type": "execute_result"
    }
   ],
   "source": [
    "clf_xgb.fit(x_train, y_train,\n",
    "           verbose = False,\n",
    "           early_stopping_rounds = 10,\n",
    "           eval_metric = 'aucpr',\n",
    "           eval_set = [(x_test, y_test)])"
   ]
  },
  {
   "cell_type": "code",
   "execution_count": 36,
   "id": "82a4d3f2",
   "metadata": {},
   "outputs": [
    {
     "data": {
      "text/plain": [
       "<sklearn.metrics._plot.confusion_matrix.ConfusionMatrixDisplay at 0x24d3bcb4810>"
      ]
     },
     "execution_count": 36,
     "metadata": {},
     "output_type": "execute_result"
    },
    {
     "data": {
      "image/png": "[encoded data removed]",
      "text/plain": [
       "<Figure size 640x480 with 2 Axes>"
      ]
     },
     "metadata": {},
     "output_type": "display_data"
    }
   ],
   "source": [
    "cm = confusion_matrix(y_test, clf_xgb.predict(x_test))\n",
    "ConfusionMatrixDisplay(cm).plot()"
   ]
  },
  {
   "cell_type": "code",
   "execution_count": 37,
   "id": "b8d65e4c",
   "metadata": {},
   "outputs": [
    {
     "name": "stdout",
     "output_type": "stream",
     "text": [
      "AUC for XGBOOST :  0.798403323736596\n"
     ]
    }
   ],
   "source": [
    "print('AUC for XGBOOST : ', roc_auc_score(y_test, clf_xgb.predict_proba(x_test)[:,1]))"
   ]
  },
  {
   "cell_type": "code",
   "execution_count": 38,
   "id": "6f9bba0f",
   "metadata": {},
   "outputs": [],
   "source": [
    "##output files"
   ]
  },
  {
   "cell_type": "code",
   "execution_count": 39,
   "id": "f9e84060",
   "metadata": {},
   "outputs": [],
   "source": [
    "#pd.DataFrame(logreg.predict_proba(df_test_x)[:,1]).to_csv('D:/datasets/interviews/state farm/glmresults.csv', index = False, header = False)"
   ]
  },
  {
   "cell_type": "code",
   "execution_count": 40,
   "id": "20c7ab66",
   "metadata": {},
   "outputs": [],
   "source": [
    "#pd.DataFrame(clf_xgb.predict_proba(df_test_x)[:,1]).to_csv('D:/datasets/interviews/state farm/nonglmresults.csv', index = False, header = False)"
   ]
  },
  {
   "cell_type": "code",
   "execution_count": null,
   "id": "e80784f2",
   "metadata": {},
   "outputs": [],
   "source": []
  }
 ],
 "metadata": {
  "kernelspec": {
   "display_name": "Python 3 (ipykernel)",
   "language": "python",
   "name": "python3"
  },
  "language_info": {
   "codemirror_mode": {
    "name": "ipython",
    "version": 3
   },
   "file_extension": ".py",
   "mimetype": "text/x-python",
   "name": "python",
   "nbconvert_exporter": "python",
   "pygments_lexer": "ipython3",
   "version": "3.11.3"
  }
 },
 "nbformat": 4,
 "nbformat_minor": 5
}
